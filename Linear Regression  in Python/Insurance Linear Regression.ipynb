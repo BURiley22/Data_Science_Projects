{
 "cells": [
  {
   "cell_type": "code",
   "execution_count": 12,
   "id": "f8eaa78b",
   "metadata": {},
   "outputs": [],
   "source": [
    "# Importing necessary libraries\n",
    "\n",
    "import numpy as np\n",
    "import matplotlib.pyplot as plt\n",
    "import pandas as pd\n",
    "import seaborn as sns\n",
    "%matplotlib inline"
   ]
  },
  {
   "cell_type": "code",
   "execution_count": 30,
   "id": "3ca02d50",
   "metadata": {},
   "outputs": [],
   "source": [
    "# importing the dataset and extracting the Independent and Dependent variables\n",
    "\n",
    "insurance_data = pd.read_csv('insuranceData.csv')\n",
    "\n",
    "X = insurance_data.iloc[:, :-1].values\n",
    "y = insurance_data.iloc[:, 4].values"
   ]
  },
  {
   "cell_type": "code",
   "execution_count": 31,
   "id": "ab01ad35",
   "metadata": {},
   "outputs": [
    {
     "data": {
      "text/html": [
       "<div>\n",
       "<style scoped>\n",
       "    .dataframe tbody tr th:only-of-type {\n",
       "        vertical-align: middle;\n",
       "    }\n",
       "\n",
       "    .dataframe tbody tr th {\n",
       "        vertical-align: top;\n",
       "    }\n",
       "\n",
       "    .dataframe thead th {\n",
       "        text-align: right;\n",
       "    }\n",
       "</style>\n",
       "<table border=\"1\" class=\"dataframe\">\n",
       "  <thead>\n",
       "    <tr style=\"text-align: right;\">\n",
       "      <th></th>\n",
       "      <th>age</th>\n",
       "      <th>bmi</th>\n",
       "      <th>children</th>\n",
       "      <th>smoker</th>\n",
       "      <th>charges</th>\n",
       "    </tr>\n",
       "  </thead>\n",
       "  <tbody>\n",
       "    <tr>\n",
       "      <th>0</th>\n",
       "      <td>19</td>\n",
       "      <td>27.900</td>\n",
       "      <td>0</td>\n",
       "      <td>yes</td>\n",
       "      <td>16884.92400</td>\n",
       "    </tr>\n",
       "    <tr>\n",
       "      <th>1</th>\n",
       "      <td>18</td>\n",
       "      <td>33.770</td>\n",
       "      <td>1</td>\n",
       "      <td>no</td>\n",
       "      <td>1725.55230</td>\n",
       "    </tr>\n",
       "    <tr>\n",
       "      <th>2</th>\n",
       "      <td>28</td>\n",
       "      <td>33.000</td>\n",
       "      <td>3</td>\n",
       "      <td>no</td>\n",
       "      <td>4449.46200</td>\n",
       "    </tr>\n",
       "    <tr>\n",
       "      <th>3</th>\n",
       "      <td>33</td>\n",
       "      <td>22.705</td>\n",
       "      <td>0</td>\n",
       "      <td>no</td>\n",
       "      <td>21984.47061</td>\n",
       "    </tr>\n",
       "    <tr>\n",
       "      <th>4</th>\n",
       "      <td>32</td>\n",
       "      <td>28.880</td>\n",
       "      <td>0</td>\n",
       "      <td>no</td>\n",
       "      <td>3866.85520</td>\n",
       "    </tr>\n",
       "  </tbody>\n",
       "</table>\n",
       "</div>"
      ],
      "text/plain": [
       "   age     bmi  children smoker      charges\n",
       "0   19  27.900         0    yes  16884.92400\n",
       "1   18  33.770         1     no   1725.55230\n",
       "2   28  33.000         3     no   4449.46200\n",
       "3   33  22.705         0     no  21984.47061\n",
       "4   32  28.880         0     no   3866.85520"
      ]
     },
     "execution_count": 31,
     "metadata": {},
     "output_type": "execute_result"
    }
   ],
   "source": [
    "# checking the data types\n",
    "\n",
    "insurance_data.head()"
   ]
  },
  {
   "cell_type": "code",
   "execution_count": 32,
   "id": "063ccf36",
   "metadata": {},
   "outputs": [],
   "source": [
    "# Label Encoding & OneHotEncoding of categorical data\n",
    "\n",
    "from sklearn.preprocessing import LabelEncoder, OneHotEncoder\n",
    "from sklearn.compose import ColumnTransformer\n",
    "labelencoder = LabelEncoder()\n",
    "X[:, 3] = labelencoder.fit_transform(X[:, 3])\n",
    "onehotencoder = ColumnTransformer([(\"smoker\", OneHotEncoder(), [3])], remainder=\"passthrough\")\n",
    "X = onehotencoder.fit_transform(X)"
   ]
  },
  {
   "cell_type": "code",
   "execution_count": 37,
   "id": "e38f338d",
   "metadata": {},
   "outputs": [
    {
     "data": {
      "text/html": [
       "<div>\n",
       "<style scoped>\n",
       "    .dataframe tbody tr th:only-of-type {\n",
       "        vertical-align: middle;\n",
       "    }\n",
       "\n",
       "    .dataframe tbody tr th {\n",
       "        vertical-align: top;\n",
       "    }\n",
       "\n",
       "    .dataframe thead th {\n",
       "        text-align: right;\n",
       "    }\n",
       "</style>\n",
       "<table border=\"1\" class=\"dataframe\">\n",
       "  <thead>\n",
       "    <tr style=\"text-align: right;\">\n",
       "      <th></th>\n",
       "      <th>age</th>\n",
       "      <th>bmi</th>\n",
       "      <th>children</th>\n",
       "      <th>smoker</th>\n",
       "      <th>charges</th>\n",
       "    </tr>\n",
       "  </thead>\n",
       "  <tbody>\n",
       "    <tr>\n",
       "      <th>0</th>\n",
       "      <td>19</td>\n",
       "      <td>27.900</td>\n",
       "      <td>0</td>\n",
       "      <td>yes</td>\n",
       "      <td>16884.92400</td>\n",
       "    </tr>\n",
       "    <tr>\n",
       "      <th>1</th>\n",
       "      <td>18</td>\n",
       "      <td>33.770</td>\n",
       "      <td>1</td>\n",
       "      <td>no</td>\n",
       "      <td>1725.55230</td>\n",
       "    </tr>\n",
       "    <tr>\n",
       "      <th>2</th>\n",
       "      <td>28</td>\n",
       "      <td>33.000</td>\n",
       "      <td>3</td>\n",
       "      <td>no</td>\n",
       "      <td>4449.46200</td>\n",
       "    </tr>\n",
       "    <tr>\n",
       "      <th>3</th>\n",
       "      <td>33</td>\n",
       "      <td>22.705</td>\n",
       "      <td>0</td>\n",
       "      <td>no</td>\n",
       "      <td>21984.47061</td>\n",
       "    </tr>\n",
       "    <tr>\n",
       "      <th>4</th>\n",
       "      <td>32</td>\n",
       "      <td>28.880</td>\n",
       "      <td>0</td>\n",
       "      <td>no</td>\n",
       "      <td>3866.85520</td>\n",
       "    </tr>\n",
       "  </tbody>\n",
       "</table>\n",
       "</div>"
      ],
      "text/plain": [
       "   age     bmi  children smoker      charges\n",
       "0   19  27.900         0    yes  16884.92400\n",
       "1   18  33.770         1     no   1725.55230\n",
       "2   28  33.000         3     no   4449.46200\n",
       "3   33  22.705         0     no  21984.47061\n",
       "4   32  28.880         0     no   3866.85520"
      ]
     },
     "execution_count": 37,
     "metadata": {},
     "output_type": "execute_result"
    }
   ],
   "source": [
    "insurance_data.head()"
   ]
  },
  {
   "cell_type": "code",
   "execution_count": 38,
   "id": "6ff2235b",
   "metadata": {},
   "outputs": [],
   "source": [
    "# splitting the dataset into the Training set and Test set\n",
    "\n",
    "from sklearn.model_selection import train_test_split\n",
    "X_train, X_test, y_train, y_test = train_test_split(X, y, test_size=0.15, random_state = 7) # setting test size to 15%"
   ]
  },
  {
   "cell_type": "code",
   "execution_count": 39,
   "id": "32ee4b3c",
   "metadata": {},
   "outputs": [
    {
     "data": {
      "text/html": [
       "<style>#sk-container-id-3 {color: black;}#sk-container-id-3 pre{padding: 0;}#sk-container-id-3 div.sk-toggleable {background-color: white;}#sk-container-id-3 label.sk-toggleable__label {cursor: pointer;display: block;width: 100%;margin-bottom: 0;padding: 0.3em;box-sizing: border-box;text-align: center;}#sk-container-id-3 label.sk-toggleable__label-arrow:before {content: \"▸\";float: left;margin-right: 0.25em;color: #696969;}#sk-container-id-3 label.sk-toggleable__label-arrow:hover:before {color: black;}#sk-container-id-3 div.sk-estimator:hover label.sk-toggleable__label-arrow:before {color: black;}#sk-container-id-3 div.sk-toggleable__content {max-height: 0;max-width: 0;overflow: hidden;text-align: left;background-color: #f0f8ff;}#sk-container-id-3 div.sk-toggleable__content pre {margin: 0.2em;color: black;border-radius: 0.25em;background-color: #f0f8ff;}#sk-container-id-3 input.sk-toggleable__control:checked~div.sk-toggleable__content {max-height: 200px;max-width: 100%;overflow: auto;}#sk-container-id-3 input.sk-toggleable__control:checked~label.sk-toggleable__label-arrow:before {content: \"▾\";}#sk-container-id-3 div.sk-estimator input.sk-toggleable__control:checked~label.sk-toggleable__label {background-color: #d4ebff;}#sk-container-id-3 div.sk-label input.sk-toggleable__control:checked~label.sk-toggleable__label {background-color: #d4ebff;}#sk-container-id-3 input.sk-hidden--visually {border: 0;clip: rect(1px 1px 1px 1px);clip: rect(1px, 1px, 1px, 1px);height: 1px;margin: -1px;overflow: hidden;padding: 0;position: absolute;width: 1px;}#sk-container-id-3 div.sk-estimator {font-family: monospace;background-color: #f0f8ff;border: 1px dotted black;border-radius: 0.25em;box-sizing: border-box;margin-bottom: 0.5em;}#sk-container-id-3 div.sk-estimator:hover {background-color: #d4ebff;}#sk-container-id-3 div.sk-parallel-item::after {content: \"\";width: 100%;border-bottom: 1px solid gray;flex-grow: 1;}#sk-container-id-3 div.sk-label:hover label.sk-toggleable__label {background-color: #d4ebff;}#sk-container-id-3 div.sk-serial::before {content: \"\";position: absolute;border-left: 1px solid gray;box-sizing: border-box;top: 0;bottom: 0;left: 50%;z-index: 0;}#sk-container-id-3 div.sk-serial {display: flex;flex-direction: column;align-items: center;background-color: white;padding-right: 0.2em;padding-left: 0.2em;position: relative;}#sk-container-id-3 div.sk-item {position: relative;z-index: 1;}#sk-container-id-3 div.sk-parallel {display: flex;align-items: stretch;justify-content: center;background-color: white;position: relative;}#sk-container-id-3 div.sk-item::before, #sk-container-id-3 div.sk-parallel-item::before {content: \"\";position: absolute;border-left: 1px solid gray;box-sizing: border-box;top: 0;bottom: 0;left: 50%;z-index: -1;}#sk-container-id-3 div.sk-parallel-item {display: flex;flex-direction: column;z-index: 1;position: relative;background-color: white;}#sk-container-id-3 div.sk-parallel-item:first-child::after {align-self: flex-end;width: 50%;}#sk-container-id-3 div.sk-parallel-item:last-child::after {align-self: flex-start;width: 50%;}#sk-container-id-3 div.sk-parallel-item:only-child::after {width: 0;}#sk-container-id-3 div.sk-dashed-wrapped {border: 1px dashed gray;margin: 0 0.4em 0.5em 0.4em;box-sizing: border-box;padding-bottom: 0.4em;background-color: white;}#sk-container-id-3 div.sk-label label {font-family: monospace;font-weight: bold;display: inline-block;line-height: 1.2em;}#sk-container-id-3 div.sk-label-container {text-align: center;}#sk-container-id-3 div.sk-container {/* jupyter's `normalize.less` sets `[hidden] { display: none; }` but bootstrap.min.css set `[hidden] { display: none !important; }` so we also need the `!important` here to be able to override the default hidden behavior on the sphinx rendered scikit-learn.org. See: https://github.com/scikit-learn/scikit-learn/issues/21755 */display: inline-block !important;position: relative;}#sk-container-id-3 div.sk-text-repr-fallback {display: none;}</style><div id=\"sk-container-id-3\" class=\"sk-top-container\"><div class=\"sk-text-repr-fallback\"><pre>LinearRegression()</pre><b>In a Jupyter environment, please rerun this cell to show the HTML representation or trust the notebook. <br />On GitHub, the HTML representation is unable to render, please try loading this page with nbviewer.org.</b></div><div class=\"sk-container\" hidden><div class=\"sk-item\"><div class=\"sk-estimator sk-toggleable\"><input class=\"sk-toggleable__control sk-hidden--visually\" id=\"sk-estimator-id-3\" type=\"checkbox\" checked><label for=\"sk-estimator-id-3\" class=\"sk-toggleable__label sk-toggleable__label-arrow\">LinearRegression</label><div class=\"sk-toggleable__content\"><pre>LinearRegression()</pre></div></div></div></div></div>"
      ],
      "text/plain": [
       "LinearRegression()"
      ]
     },
     "execution_count": 39,
     "metadata": {},
     "output_type": "execute_result"
    }
   ],
   "source": [
    "# fitting Multiple linear regression to the training set\n",
    "\n",
    "from sklearn.linear_model import LinearRegression\n",
    "model_fit = LinearRegression()\n",
    "model_fit.fit(X_train, y_train)"
   ]
  },
  {
   "cell_type": "code",
   "execution_count": 40,
   "id": "99834251",
   "metadata": {},
   "outputs": [
    {
     "data": {
      "text/plain": [
       "array([15136.51216817, 10617.66158981, -2150.47504649, 29948.93999672,\n",
       "        9512.95511803,  2695.8449379 , 27925.83619861,  3098.33768838,\n",
       "        4440.39180777, 10878.92036843,  7694.13465944, 10125.94372645,\n",
       "        1608.39370505,  2942.43767204, 13140.51266737, 12260.77887066,\n",
       "        6196.58262538, 17462.31722906,  9642.6606582 ,  9902.99971745,\n",
       "        7856.80772259,  1807.50029432, 31104.36483981, 32363.94762943,\n",
       "       28351.84951535, 31617.0151809 , 37556.72607971, 30827.65671578,\n",
       "        9113.94874032,  9627.96106851, 12067.78028791, 32782.73462748,\n",
       "        7668.59532533, 14103.79593995, 10190.52832221,  3626.4137279 ,\n",
       "        5120.71263315,  8602.93596779, 12588.15366303,   671.19929082,\n",
       "        4982.73289603,  5993.20746832,  8596.23827095,  9919.33523702,\n",
       "        8548.32912204,  2861.42458173,  5503.37084845, 35917.03135856,\n",
       "       31501.21603125, 14497.91987983,  8152.02909352, 30309.03916989,\n",
       "        9998.72176292,  9505.81187609,  4110.14234125, 34397.84989995,\n",
       "       34783.14022041,  9710.75089043,  6004.3227942 ,  3802.33803951,\n",
       "        7040.36860714, 16694.96002229,  9137.70308328, 12543.66871251,\n",
       "        3536.46140035, 27974.11390396, 15466.00034205,    78.02157059,\n",
       "       39631.26773701,  4805.48840207, 34252.86608394,  9783.33246299,\n",
       "        5447.51589296, 37999.02210711,  3721.36675395, 35122.84654187,\n",
       "       10231.90646056, 13098.85894756, 11917.02675397,  1892.55092033,\n",
       "        7391.07473843,  9986.53929509, 26725.46985573,  1985.78002369,\n",
       "       10552.12700683,  6800.60172871, 11766.82274427,  9371.49947954,\n",
       "       10420.29818693, 35916.40812303, 12094.78886563, 10350.26289814,\n",
       "       11508.98652536, 39604.68216333,  3970.22029219, 14977.42173014,\n",
       "       11151.39183121,  4383.32064907, 29212.61515459, 11775.28616855,\n",
       "        5907.87136263, 12335.99308113, 12894.43755094,  9763.79551758,\n",
       "        8852.36157133, 10793.95445786, 11360.73583175, 36927.87612599,\n",
       "        7708.02014758,  5712.37819908,  5370.38027293,  6306.69841123,\n",
       "        2945.4916753 , 36434.41507624,  1208.62767339,  4796.17896971,\n",
       "       10570.96864411, 16875.10945825,  2924.6648154 , 11628.1554258 ,\n",
       "       27139.16154161, 16605.82015761, 12132.52167172,  9206.79775033,\n",
       "        3360.48427984, 12839.80816413,  8186.48676249, 38997.36702049,\n",
       "       13055.14465515,  6660.84800461,  4871.21331832, 34361.81847549,\n",
       "        6575.5856102 , 13140.66008995, 34741.98321593, 35722.24614599,\n",
       "       12397.84878664, 10827.58702113,  8234.12032994,  9567.15160257,\n",
       "       13262.93744125,  9341.45780094, 13743.14724255, 12926.97217166,\n",
       "       27333.07984373,  8226.12171445, 10264.22984563, 30719.50852755,\n",
       "        9864.62113477,  7910.75116673,  9699.25436526, 16177.37607313,\n",
       "        2654.19121809, 10206.99036198,  7476.040649  ,  4724.56992543,\n",
       "       10941.45375706,  4724.02040118,  7348.40668559,  8308.41482104,\n",
       "       30389.88229656, 11962.94904157, 11322.68727812, 11584.86413743,\n",
       "        5781.93767492, 13505.44093672,  4520.94008928,  7809.34248009,\n",
       "        8838.06572198, 36125.1943398 ,  4074.35459171, 39327.82661672,\n",
       "        9332.06365314,  2437.31177217,  1583.99522418, 15052.24320442,\n",
       "       12986.63141888, 14157.39009135, 14551.73516509, 10277.73249581,\n",
       "        3923.25176502,  7071.42461877,  5115.01662651, 24995.991132  ,\n",
       "       10971.16704528,  8037.92032135, 14488.41021597, 30620.96461684,\n",
       "        4363.11866338, 11038.3600992 ,   -79.43129887, 29887.98036359,\n",
       "        5732.19072595, 11326.7649799 , 11073.04054072, 10226.0740355 ,\n",
       "       33571.09802326,  6207.36130135, 12557.76433036,  8139.73936919,\n",
       "       14483.81325781])"
      ]
     },
     "execution_count": 40,
     "metadata": {},
     "output_type": "execute_result"
    }
   ],
   "source": [
    "# predicting the Test set results\n",
    "\n",
    "y_pred = model_fit.predict(X_test)\n",
    "y_pred"
   ]
  },
  {
   "cell_type": "code",
   "execution_count": 41,
   "id": "408c4b32",
   "metadata": {},
   "outputs": [
    {
     "name": "stdout",
     "output_type": "stream",
     "text": [
      "[-11930.49563537  11930.49563537    258.53316573    312.77145503\n",
      "    415.46841748]\n"
     ]
    }
   ],
   "source": [
    "# Calculating the Coefficients\n",
    "\n",
    "print(model_fit.coef_)"
   ]
  },
  {
   "cell_type": "code",
   "execution_count": 42,
   "id": "8c220301",
   "metadata": {},
   "outputs": [
    {
     "name": "stdout",
     "output_type": "stream",
     "text": [
      "134.5911835041079\n"
     ]
    }
   ],
   "source": [
    "# Calculating the Intercept\n",
    "\n",
    "print(model_fit.intercept_)"
   ]
  },
  {
   "cell_type": "code",
   "execution_count": 43,
   "id": "fe599448",
   "metadata": {},
   "outputs": [
    {
     "data": {
      "text/plain": [
       "0.740955453518366"
      ]
     },
     "execution_count": 43,
     "metadata": {},
     "output_type": "execute_result"
    }
   ],
   "source": [
    "# Calculating the R sqaured value\n",
    "\n",
    "from sklearn.metrics import r2_score\n",
    "r2_score(y_test, y_pred)"
   ]
  },
  {
   "cell_type": "code",
   "execution_count": null,
   "id": "b47107ab",
   "metadata": {},
   "outputs": [],
   "source": []
  }
 ],
 "metadata": {
  "kernelspec": {
   "display_name": "Python 3 (ipykernel)",
   "language": "python",
   "name": "python3"
  },
  "language_info": {
   "codemirror_mode": {
    "name": "ipython",
    "version": 3
   },
   "file_extension": ".py",
   "mimetype": "text/x-python",
   "name": "python",
   "nbconvert_exporter": "python",
   "pygments_lexer": "ipython3",
   "version": "3.11.5"
  }
 },
 "nbformat": 4,
 "nbformat_minor": 5
}
